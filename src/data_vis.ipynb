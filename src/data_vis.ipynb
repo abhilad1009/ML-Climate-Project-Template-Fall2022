{
 "cells": [
  {
   "attachments": {},
   "cell_type": "markdown",
   "metadata": {},
   "source": [
    "# HRIT"
   ]
  },
  {
   "cell_type": "code",
   "execution_count": null,
   "metadata": {},
   "outputs": [],
   "source": [
    "import matplotlib.pyplot as plt\n",
    "import h5py\n",
    "\n",
    "hrit = \"data/2019/HRIT/boxi_0034.val.reflbt0.ns.h5\"\n",
    "\n",
    "with h5py.File(hrit, \"r\") as f:\n",
    "\n",
    "    # print(f['REFL-BT'][0].shape)\n",
    "    for i in range(11):\n",
    "        plt.axis(False)\n",
    "        plt.imshow(f['REFL-BT'][1300][i],cmap=\"gray\")\n",
    "        plt.show()\n",
    "\n",
    "\n"
   ]
  },
  {
   "attachments": {},
   "cell_type": "markdown",
   "metadata": {},
   "source": [
    "# OPERA"
   ]
  },
  {
   "cell_type": "code",
   "execution_count": null,
   "metadata": {},
   "outputs": [],
   "source": [
    "import matplotlib.pyplot as plt\n",
    "import h5py\n",
    "\n",
    "\n",
    "hrit = \"data/2019/OPERA/boxi_0034.val.rates.crop.h5\"\n",
    "\n",
    "with h5py.File(hrit, \"r\") as f:\n",
    "    # print(f.keys())\n",
    "\n",
    "    plt.axis(False)\n",
    "    plt.imshow(f['rates.crop'][1300][0],cmap=\"gray\")\n",
    "    plt.show()\n",
    "\n",
    "\n"
   ]
  },
  {
   "attachments": {},
   "cell_type": "markdown",
   "metadata": {},
   "source": [
    "# Submission"
   ]
  },
  {
   "cell_type": "code",
   "execution_count": null,
   "metadata": {},
   "outputs": [],
   "source": [
    "import matplotlib.pyplot as plt\n",
    "import h5py\n",
    "\n",
    "\n",
    "sub = \"submission/2019/boxi_0034.pred.h5\"\n",
    "\n",
    "with h5py.File(hrit, \"r\") as f:\n",
    "    # print(f.keys())\n",
    "    # print(f['submission'][100].shape)\n",
    "    for i in range(8):\n",
    "        plt.axis(False)\n",
    "        plt.imshow(f['submission'][20][4*i],cmap=\"gray\")\n",
    "        plt.show()\n",
    "\n",
    "\n",
    "\n"
   ]
  }
 ],
 "metadata": {
  "language_info": {
   "name": "python"
  },
  "orig_nbformat": 4
 },
 "nbformat": 4,
 "nbformat_minor": 2
}
